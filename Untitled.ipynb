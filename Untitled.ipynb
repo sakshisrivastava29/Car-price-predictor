{
 "cells": [
  {
   "cell_type": "code",
   "execution_count": 145,
   "id": "f1ae5a47",
   "metadata": {},
   "outputs": [],
   "source": [
    "import numpy as np\n",
    "import pandas as pd "
   ]
  },
  {
   "cell_type": "code",
   "execution_count": 146,
   "id": "f81f960e",
   "metadata": {},
   "outputs": [],
   "source": [
    "import matplotlib.pyplot as plt \n",
    "import seaborn as sns\n",
    "%matplotlib inline"
   ]
  },
  {
   "cell_type": "code",
   "execution_count": 147,
   "id": "dc57dd16",
   "metadata": {},
   "outputs": [],
   "source": [
    "car = pd.read_csv('car details v4.csv')"
   ]
  },
  {
   "cell_type": "code",
   "execution_count": 148,
   "id": "997bcf68",
   "metadata": {},
   "outputs": [
    {
     "data": {
      "text/html": [
       "<div>\n",
       "<style scoped>\n",
       "    .dataframe tbody tr th:only-of-type {\n",
       "        vertical-align: middle;\n",
       "    }\n",
       "\n",
       "    .dataframe tbody tr th {\n",
       "        vertical-align: top;\n",
       "    }\n",
       "\n",
       "    .dataframe thead th {\n",
       "        text-align: right;\n",
       "    }\n",
       "</style>\n",
       "<table border=\"1\" class=\"dataframe\">\n",
       "  <thead>\n",
       "    <tr style=\"text-align: right;\">\n",
       "      <th></th>\n",
       "      <th>Make</th>\n",
       "      <th>Model</th>\n",
       "      <th>Price</th>\n",
       "      <th>Year</th>\n",
       "      <th>Kilometer</th>\n",
       "      <th>Fuel Type</th>\n",
       "      <th>Transmission</th>\n",
       "      <th>Location</th>\n",
       "      <th>Color</th>\n",
       "      <th>Owner</th>\n",
       "      <th>Seller Type</th>\n",
       "      <th>Engine</th>\n",
       "      <th>Max Power</th>\n",
       "      <th>Max Torque</th>\n",
       "      <th>Drivetrain</th>\n",
       "      <th>Length</th>\n",
       "      <th>Width</th>\n",
       "      <th>Height</th>\n",
       "      <th>Seating Capacity</th>\n",
       "      <th>Fuel Tank Capacity</th>\n",
       "    </tr>\n",
       "  </thead>\n",
       "  <tbody>\n",
       "    <tr>\n",
       "      <th>0</th>\n",
       "      <td>Honda</td>\n",
       "      <td>Amaze 1.2 VX i-VTEC</td>\n",
       "      <td>505000</td>\n",
       "      <td>2017</td>\n",
       "      <td>87150</td>\n",
       "      <td>Petrol</td>\n",
       "      <td>Manual</td>\n",
       "      <td>Pune</td>\n",
       "      <td>Grey</td>\n",
       "      <td>First</td>\n",
       "      <td>Corporate</td>\n",
       "      <td>1198 cc</td>\n",
       "      <td>87 bhp @ 6000 rpm</td>\n",
       "      <td>109 Nm @ 4500 rpm</td>\n",
       "      <td>FWD</td>\n",
       "      <td>3990.0</td>\n",
       "      <td>1680.0</td>\n",
       "      <td>1505.0</td>\n",
       "      <td>5.0</td>\n",
       "      <td>35.0</td>\n",
       "    </tr>\n",
       "    <tr>\n",
       "      <th>1</th>\n",
       "      <td>Maruti Suzuki</td>\n",
       "      <td>Swift DZire VDI</td>\n",
       "      <td>450000</td>\n",
       "      <td>2014</td>\n",
       "      <td>75000</td>\n",
       "      <td>Diesel</td>\n",
       "      <td>Manual</td>\n",
       "      <td>Ludhiana</td>\n",
       "      <td>White</td>\n",
       "      <td>Second</td>\n",
       "      <td>Individual</td>\n",
       "      <td>1248 cc</td>\n",
       "      <td>74 bhp @ 4000 rpm</td>\n",
       "      <td>190 Nm @ 2000 rpm</td>\n",
       "      <td>FWD</td>\n",
       "      <td>3995.0</td>\n",
       "      <td>1695.0</td>\n",
       "      <td>1555.0</td>\n",
       "      <td>5.0</td>\n",
       "      <td>42.0</td>\n",
       "    </tr>\n",
       "    <tr>\n",
       "      <th>2</th>\n",
       "      <td>Hyundai</td>\n",
       "      <td>i10 Magna 1.2 Kappa2</td>\n",
       "      <td>220000</td>\n",
       "      <td>2011</td>\n",
       "      <td>67000</td>\n",
       "      <td>Petrol</td>\n",
       "      <td>Manual</td>\n",
       "      <td>Lucknow</td>\n",
       "      <td>Maroon</td>\n",
       "      <td>First</td>\n",
       "      <td>Individual</td>\n",
       "      <td>1197 cc</td>\n",
       "      <td>79 bhp @ 6000 rpm</td>\n",
       "      <td>112.7619 Nm @ 4000 rpm</td>\n",
       "      <td>FWD</td>\n",
       "      <td>3585.0</td>\n",
       "      <td>1595.0</td>\n",
       "      <td>1550.0</td>\n",
       "      <td>5.0</td>\n",
       "      <td>35.0</td>\n",
       "    </tr>\n",
       "    <tr>\n",
       "      <th>3</th>\n",
       "      <td>Toyota</td>\n",
       "      <td>Glanza G</td>\n",
       "      <td>799000</td>\n",
       "      <td>2019</td>\n",
       "      <td>37500</td>\n",
       "      <td>Petrol</td>\n",
       "      <td>Manual</td>\n",
       "      <td>Mangalore</td>\n",
       "      <td>Red</td>\n",
       "      <td>First</td>\n",
       "      <td>Individual</td>\n",
       "      <td>1197 cc</td>\n",
       "      <td>82 bhp @ 6000 rpm</td>\n",
       "      <td>113 Nm @ 4200 rpm</td>\n",
       "      <td>FWD</td>\n",
       "      <td>3995.0</td>\n",
       "      <td>1745.0</td>\n",
       "      <td>1510.0</td>\n",
       "      <td>5.0</td>\n",
       "      <td>37.0</td>\n",
       "    </tr>\n",
       "    <tr>\n",
       "      <th>4</th>\n",
       "      <td>Toyota</td>\n",
       "      <td>Innova 2.4 VX 7 STR [2016-2020]</td>\n",
       "      <td>1950000</td>\n",
       "      <td>2018</td>\n",
       "      <td>69000</td>\n",
       "      <td>Diesel</td>\n",
       "      <td>Manual</td>\n",
       "      <td>Mumbai</td>\n",
       "      <td>Grey</td>\n",
       "      <td>First</td>\n",
       "      <td>Individual</td>\n",
       "      <td>2393 cc</td>\n",
       "      <td>148 bhp @ 3400 rpm</td>\n",
       "      <td>343 Nm @ 1400 rpm</td>\n",
       "      <td>RWD</td>\n",
       "      <td>4735.0</td>\n",
       "      <td>1830.0</td>\n",
       "      <td>1795.0</td>\n",
       "      <td>7.0</td>\n",
       "      <td>55.0</td>\n",
       "    </tr>\n",
       "  </tbody>\n",
       "</table>\n",
       "</div>"
      ],
      "text/plain": [
       "            Make                            Model    Price  Year  Kilometer  \\\n",
       "0          Honda              Amaze 1.2 VX i-VTEC   505000  2017      87150   \n",
       "1  Maruti Suzuki                  Swift DZire VDI   450000  2014      75000   \n",
       "2        Hyundai             i10 Magna 1.2 Kappa2   220000  2011      67000   \n",
       "3         Toyota                         Glanza G   799000  2019      37500   \n",
       "4         Toyota  Innova 2.4 VX 7 STR [2016-2020]  1950000  2018      69000   \n",
       "\n",
       "  Fuel Type Transmission   Location   Color   Owner Seller Type   Engine  \\\n",
       "0    Petrol       Manual       Pune    Grey   First   Corporate  1198 cc   \n",
       "1    Diesel       Manual   Ludhiana   White  Second  Individual  1248 cc   \n",
       "2    Petrol       Manual    Lucknow  Maroon   First  Individual  1197 cc   \n",
       "3    Petrol       Manual  Mangalore     Red   First  Individual  1197 cc   \n",
       "4    Diesel       Manual     Mumbai    Grey   First  Individual  2393 cc   \n",
       "\n",
       "            Max Power              Max Torque Drivetrain  Length   Width  \\\n",
       "0   87 bhp @ 6000 rpm       109 Nm @ 4500 rpm        FWD  3990.0  1680.0   \n",
       "1   74 bhp @ 4000 rpm       190 Nm @ 2000 rpm        FWD  3995.0  1695.0   \n",
       "2   79 bhp @ 6000 rpm  112.7619 Nm @ 4000 rpm        FWD  3585.0  1595.0   \n",
       "3   82 bhp @ 6000 rpm       113 Nm @ 4200 rpm        FWD  3995.0  1745.0   \n",
       "4  148 bhp @ 3400 rpm       343 Nm @ 1400 rpm        RWD  4735.0  1830.0   \n",
       "\n",
       "   Height  Seating Capacity  Fuel Tank Capacity  \n",
       "0  1505.0               5.0                35.0  \n",
       "1  1555.0               5.0                42.0  \n",
       "2  1550.0               5.0                35.0  \n",
       "3  1510.0               5.0                37.0  \n",
       "4  1795.0               7.0                55.0  "
      ]
     },
     "execution_count": 148,
     "metadata": {},
     "output_type": "execute_result"
    }
   ],
   "source": [
    "car.head()"
   ]
  },
  {
   "cell_type": "code",
   "execution_count": 149,
   "id": "f9361a27",
   "metadata": {},
   "outputs": [
    {
     "data": {
      "text/plain": [
       "(2059, 20)"
      ]
     },
     "execution_count": 149,
     "metadata": {},
     "output_type": "execute_result"
    }
   ],
   "source": [
    "car.shape"
   ]
  },
  {
   "cell_type": "code",
   "execution_count": 150,
   "id": "b3167f94",
   "metadata": {},
   "outputs": [],
   "source": [
    "car = car.drop(columns= ['Engine','Max Power','Max Torque','Drivetrain','Length','Width','Height','Fuel Tank Capacity'])"
   ]
  },
  {
   "cell_type": "code",
   "execution_count": 151,
   "id": "817da73b",
   "metadata": {},
   "outputs": [
    {
     "data": {
      "text/html": [
       "<div>\n",
       "<style scoped>\n",
       "    .dataframe tbody tr th:only-of-type {\n",
       "        vertical-align: middle;\n",
       "    }\n",
       "\n",
       "    .dataframe tbody tr th {\n",
       "        vertical-align: top;\n",
       "    }\n",
       "\n",
       "    .dataframe thead th {\n",
       "        text-align: right;\n",
       "    }\n",
       "</style>\n",
       "<table border=\"1\" class=\"dataframe\">\n",
       "  <thead>\n",
       "    <tr style=\"text-align: right;\">\n",
       "      <th></th>\n",
       "      <th>Make</th>\n",
       "      <th>Model</th>\n",
       "      <th>Price</th>\n",
       "      <th>Year</th>\n",
       "      <th>Kilometer</th>\n",
       "      <th>Fuel Type</th>\n",
       "      <th>Transmission</th>\n",
       "      <th>Location</th>\n",
       "      <th>Color</th>\n",
       "      <th>Owner</th>\n",
       "      <th>Seller Type</th>\n",
       "      <th>Seating Capacity</th>\n",
       "    </tr>\n",
       "  </thead>\n",
       "  <tbody>\n",
       "    <tr>\n",
       "      <th>0</th>\n",
       "      <td>Honda</td>\n",
       "      <td>Amaze 1.2 VX i-VTEC</td>\n",
       "      <td>505000</td>\n",
       "      <td>2017</td>\n",
       "      <td>87150</td>\n",
       "      <td>Petrol</td>\n",
       "      <td>Manual</td>\n",
       "      <td>Pune</td>\n",
       "      <td>Grey</td>\n",
       "      <td>First</td>\n",
       "      <td>Corporate</td>\n",
       "      <td>5.0</td>\n",
       "    </tr>\n",
       "    <tr>\n",
       "      <th>1</th>\n",
       "      <td>Maruti Suzuki</td>\n",
       "      <td>Swift DZire VDI</td>\n",
       "      <td>450000</td>\n",
       "      <td>2014</td>\n",
       "      <td>75000</td>\n",
       "      <td>Diesel</td>\n",
       "      <td>Manual</td>\n",
       "      <td>Ludhiana</td>\n",
       "      <td>White</td>\n",
       "      <td>Second</td>\n",
       "      <td>Individual</td>\n",
       "      <td>5.0</td>\n",
       "    </tr>\n",
       "    <tr>\n",
       "      <th>2</th>\n",
       "      <td>Hyundai</td>\n",
       "      <td>i10 Magna 1.2 Kappa2</td>\n",
       "      <td>220000</td>\n",
       "      <td>2011</td>\n",
       "      <td>67000</td>\n",
       "      <td>Petrol</td>\n",
       "      <td>Manual</td>\n",
       "      <td>Lucknow</td>\n",
       "      <td>Maroon</td>\n",
       "      <td>First</td>\n",
       "      <td>Individual</td>\n",
       "      <td>5.0</td>\n",
       "    </tr>\n",
       "    <tr>\n",
       "      <th>3</th>\n",
       "      <td>Toyota</td>\n",
       "      <td>Glanza G</td>\n",
       "      <td>799000</td>\n",
       "      <td>2019</td>\n",
       "      <td>37500</td>\n",
       "      <td>Petrol</td>\n",
       "      <td>Manual</td>\n",
       "      <td>Mangalore</td>\n",
       "      <td>Red</td>\n",
       "      <td>First</td>\n",
       "      <td>Individual</td>\n",
       "      <td>5.0</td>\n",
       "    </tr>\n",
       "    <tr>\n",
       "      <th>4</th>\n",
       "      <td>Toyota</td>\n",
       "      <td>Innova 2.4 VX 7 STR [2016-2020]</td>\n",
       "      <td>1950000</td>\n",
       "      <td>2018</td>\n",
       "      <td>69000</td>\n",
       "      <td>Diesel</td>\n",
       "      <td>Manual</td>\n",
       "      <td>Mumbai</td>\n",
       "      <td>Grey</td>\n",
       "      <td>First</td>\n",
       "      <td>Individual</td>\n",
       "      <td>7.0</td>\n",
       "    </tr>\n",
       "    <tr>\n",
       "      <th>...</th>\n",
       "      <td>...</td>\n",
       "      <td>...</td>\n",
       "      <td>...</td>\n",
       "      <td>...</td>\n",
       "      <td>...</td>\n",
       "      <td>...</td>\n",
       "      <td>...</td>\n",
       "      <td>...</td>\n",
       "      <td>...</td>\n",
       "      <td>...</td>\n",
       "      <td>...</td>\n",
       "      <td>...</td>\n",
       "    </tr>\n",
       "    <tr>\n",
       "      <th>2054</th>\n",
       "      <td>Mahindra</td>\n",
       "      <td>XUV500 W8 [2015-2017]</td>\n",
       "      <td>850000</td>\n",
       "      <td>2016</td>\n",
       "      <td>90300</td>\n",
       "      <td>Diesel</td>\n",
       "      <td>Manual</td>\n",
       "      <td>Surat</td>\n",
       "      <td>White</td>\n",
       "      <td>First</td>\n",
       "      <td>Individual</td>\n",
       "      <td>7.0</td>\n",
       "    </tr>\n",
       "    <tr>\n",
       "      <th>2055</th>\n",
       "      <td>Hyundai</td>\n",
       "      <td>Eon D-Lite +</td>\n",
       "      <td>275000</td>\n",
       "      <td>2014</td>\n",
       "      <td>83000</td>\n",
       "      <td>Petrol</td>\n",
       "      <td>Manual</td>\n",
       "      <td>Ahmedabad</td>\n",
       "      <td>White</td>\n",
       "      <td>Second</td>\n",
       "      <td>Individual</td>\n",
       "      <td>5.0</td>\n",
       "    </tr>\n",
       "    <tr>\n",
       "      <th>2056</th>\n",
       "      <td>Ford</td>\n",
       "      <td>Figo Duratec Petrol ZXI 1.2</td>\n",
       "      <td>240000</td>\n",
       "      <td>2013</td>\n",
       "      <td>73000</td>\n",
       "      <td>Petrol</td>\n",
       "      <td>Manual</td>\n",
       "      <td>Thane</td>\n",
       "      <td>Silver</td>\n",
       "      <td>First</td>\n",
       "      <td>Individual</td>\n",
       "      <td>5.0</td>\n",
       "    </tr>\n",
       "    <tr>\n",
       "      <th>2057</th>\n",
       "      <td>BMW</td>\n",
       "      <td>5-Series 520d Luxury Line [2017-2019]</td>\n",
       "      <td>4290000</td>\n",
       "      <td>2018</td>\n",
       "      <td>60474</td>\n",
       "      <td>Diesel</td>\n",
       "      <td>Automatic</td>\n",
       "      <td>Coimbatore</td>\n",
       "      <td>White</td>\n",
       "      <td>First</td>\n",
       "      <td>Individual</td>\n",
       "      <td>5.0</td>\n",
       "    </tr>\n",
       "    <tr>\n",
       "      <th>2058</th>\n",
       "      <td>Mahindra</td>\n",
       "      <td>Bolero Power Plus ZLX [2016-2019]</td>\n",
       "      <td>670000</td>\n",
       "      <td>2017</td>\n",
       "      <td>72000</td>\n",
       "      <td>Diesel</td>\n",
       "      <td>Manual</td>\n",
       "      <td>Guwahati</td>\n",
       "      <td>White</td>\n",
       "      <td>First</td>\n",
       "      <td>Individual</td>\n",
       "      <td>7.0</td>\n",
       "    </tr>\n",
       "  </tbody>\n",
       "</table>\n",
       "<p>2059 rows × 12 columns</p>\n",
       "</div>"
      ],
      "text/plain": [
       "               Make                                  Model    Price  Year  \\\n",
       "0             Honda                    Amaze 1.2 VX i-VTEC   505000  2017   \n",
       "1     Maruti Suzuki                        Swift DZire VDI   450000  2014   \n",
       "2           Hyundai                   i10 Magna 1.2 Kappa2   220000  2011   \n",
       "3            Toyota                               Glanza G   799000  2019   \n",
       "4            Toyota        Innova 2.4 VX 7 STR [2016-2020]  1950000  2018   \n",
       "...             ...                                    ...      ...   ...   \n",
       "2054       Mahindra                  XUV500 W8 [2015-2017]   850000  2016   \n",
       "2055        Hyundai                           Eon D-Lite +   275000  2014   \n",
       "2056           Ford            Figo Duratec Petrol ZXI 1.2   240000  2013   \n",
       "2057            BMW  5-Series 520d Luxury Line [2017-2019]  4290000  2018   \n",
       "2058       Mahindra      Bolero Power Plus ZLX [2016-2019]   670000  2017   \n",
       "\n",
       "      Kilometer Fuel Type Transmission    Location   Color   Owner  \\\n",
       "0         87150    Petrol       Manual        Pune    Grey   First   \n",
       "1         75000    Diesel       Manual    Ludhiana   White  Second   \n",
       "2         67000    Petrol       Manual     Lucknow  Maroon   First   \n",
       "3         37500    Petrol       Manual   Mangalore     Red   First   \n",
       "4         69000    Diesel       Manual      Mumbai    Grey   First   \n",
       "...         ...       ...          ...         ...     ...     ...   \n",
       "2054      90300    Diesel       Manual       Surat   White   First   \n",
       "2055      83000    Petrol       Manual   Ahmedabad   White  Second   \n",
       "2056      73000    Petrol       Manual       Thane  Silver   First   \n",
       "2057      60474    Diesel    Automatic  Coimbatore   White   First   \n",
       "2058      72000    Diesel       Manual    Guwahati   White   First   \n",
       "\n",
       "     Seller Type  Seating Capacity  \n",
       "0      Corporate               5.0  \n",
       "1     Individual               5.0  \n",
       "2     Individual               5.0  \n",
       "3     Individual               5.0  \n",
       "4     Individual               7.0  \n",
       "...          ...               ...  \n",
       "2054  Individual               7.0  \n",
       "2055  Individual               5.0  \n",
       "2056  Individual               5.0  \n",
       "2057  Individual               5.0  \n",
       "2058  Individual               7.0  \n",
       "\n",
       "[2059 rows x 12 columns]"
      ]
     },
     "execution_count": 151,
     "metadata": {},
     "output_type": "execute_result"
    }
   ],
   "source": [
    "car"
   ]
  },
  {
   "cell_type": "markdown",
   "id": "94b49dc6",
   "metadata": {},
   "source": [
    "# Data Cleaning"
   ]
  },
  {
   "cell_type": "code",
   "execution_count": 152,
   "id": "39e65dfc",
   "metadata": {},
   "outputs": [
    {
     "data": {
      "text/html": [
       "<div>\n",
       "<style scoped>\n",
       "    .dataframe tbody tr th:only-of-type {\n",
       "        vertical-align: middle;\n",
       "    }\n",
       "\n",
       "    .dataframe tbody tr th {\n",
       "        vertical-align: top;\n",
       "    }\n",
       "\n",
       "    .dataframe thead th {\n",
       "        text-align: right;\n",
       "    }\n",
       "</style>\n",
       "<table border=\"1\" class=\"dataframe\">\n",
       "  <thead>\n",
       "    <tr style=\"text-align: right;\">\n",
       "      <th></th>\n",
       "      <th>Make</th>\n",
       "      <th>Model</th>\n",
       "      <th>Price</th>\n",
       "      <th>Year</th>\n",
       "      <th>Kilometer</th>\n",
       "      <th>Fuel Type</th>\n",
       "      <th>Transmission</th>\n",
       "      <th>Location</th>\n",
       "      <th>Color</th>\n",
       "      <th>Owner</th>\n",
       "      <th>Seller Type</th>\n",
       "      <th>Seating Capacity</th>\n",
       "    </tr>\n",
       "  </thead>\n",
       "  <tbody>\n",
       "    <tr>\n",
       "      <th>595</th>\n",
       "      <td>Mercedes-Benz</td>\n",
       "      <td>E-Class E 200 Exclusive [2019-2019]</td>\n",
       "      <td>6500000</td>\n",
       "      <td>2021</td>\n",
       "      <td>7500</td>\n",
       "      <td>Petrol</td>\n",
       "      <td>Automatic</td>\n",
       "      <td>Delhi</td>\n",
       "      <td>Black</td>\n",
       "      <td>First</td>\n",
       "      <td>Individual</td>\n",
       "      <td>5.0</td>\n",
       "    </tr>\n",
       "    <tr>\n",
       "      <th>109</th>\n",
       "      <td>Mahindra</td>\n",
       "      <td>Thar LX 4-STR Hard Top Petrol MT</td>\n",
       "      <td>1575000</td>\n",
       "      <td>2021</td>\n",
       "      <td>8519</td>\n",
       "      <td>Petrol</td>\n",
       "      <td>Manual</td>\n",
       "      <td>Mumbai</td>\n",
       "      <td>Blue</td>\n",
       "      <td>First</td>\n",
       "      <td>Individual</td>\n",
       "      <td>4.0</td>\n",
       "    </tr>\n",
       "    <tr>\n",
       "      <th>1487</th>\n",
       "      <td>MINI</td>\n",
       "      <td>Cooper D 5 Door</td>\n",
       "      <td>1950000</td>\n",
       "      <td>2014</td>\n",
       "      <td>24000</td>\n",
       "      <td>Diesel</td>\n",
       "      <td>Automatic</td>\n",
       "      <td>Ludhiana</td>\n",
       "      <td>Red</td>\n",
       "      <td>Second</td>\n",
       "      <td>Individual</td>\n",
       "      <td>5.0</td>\n",
       "    </tr>\n",
       "    <tr>\n",
       "      <th>1618</th>\n",
       "      <td>Hyundai</td>\n",
       "      <td>i20 Asta 1.4 CRDI</td>\n",
       "      <td>434999</td>\n",
       "      <td>2012</td>\n",
       "      <td>76148</td>\n",
       "      <td>Diesel</td>\n",
       "      <td>Manual</td>\n",
       "      <td>Hyderabad</td>\n",
       "      <td>Silver</td>\n",
       "      <td>First</td>\n",
       "      <td>Individual</td>\n",
       "      <td>5.0</td>\n",
       "    </tr>\n",
       "    <tr>\n",
       "      <th>1779</th>\n",
       "      <td>Audi</td>\n",
       "      <td>A6 35 TDI Matrix</td>\n",
       "      <td>1975000</td>\n",
       "      <td>2015</td>\n",
       "      <td>61000</td>\n",
       "      <td>Diesel</td>\n",
       "      <td>Automatic</td>\n",
       "      <td>Delhi</td>\n",
       "      <td>White</td>\n",
       "      <td>Second</td>\n",
       "      <td>Individual</td>\n",
       "      <td>5.0</td>\n",
       "    </tr>\n",
       "    <tr>\n",
       "      <th>127</th>\n",
       "      <td>Tata</td>\n",
       "      <td>Nexon EV XZ Plus</td>\n",
       "      <td>1375000</td>\n",
       "      <td>2021</td>\n",
       "      <td>16000</td>\n",
       "      <td>Electric</td>\n",
       "      <td>Automatic</td>\n",
       "      <td>Mumbai</td>\n",
       "      <td>White</td>\n",
       "      <td>First</td>\n",
       "      <td>Individual</td>\n",
       "      <td>5.0</td>\n",
       "    </tr>\n",
       "  </tbody>\n",
       "</table>\n",
       "</div>"
      ],
      "text/plain": [
       "               Make                                Model    Price  Year  \\\n",
       "595   Mercedes-Benz  E-Class E 200 Exclusive [2019-2019]  6500000  2021   \n",
       "109        Mahindra     Thar LX 4-STR Hard Top Petrol MT  1575000  2021   \n",
       "1487           MINI                      Cooper D 5 Door  1950000  2014   \n",
       "1618        Hyundai                    i20 Asta 1.4 CRDI   434999  2012   \n",
       "1779           Audi                     A6 35 TDI Matrix  1975000  2015   \n",
       "127            Tata                     Nexon EV XZ Plus  1375000  2021   \n",
       "\n",
       "      Kilometer Fuel Type Transmission   Location   Color   Owner Seller Type  \\\n",
       "595        7500    Petrol    Automatic      Delhi   Black   First  Individual   \n",
       "109        8519    Petrol       Manual     Mumbai    Blue   First  Individual   \n",
       "1487      24000    Diesel    Automatic   Ludhiana     Red  Second  Individual   \n",
       "1618      76148    Diesel       Manual  Hyderabad  Silver   First  Individual   \n",
       "1779      61000    Diesel    Automatic      Delhi   White  Second  Individual   \n",
       "127       16000  Electric    Automatic     Mumbai   White   First  Individual   \n",
       "\n",
       "      Seating Capacity  \n",
       "595                5.0  \n",
       "109                4.0  \n",
       "1487               5.0  \n",
       "1618               5.0  \n",
       "1779               5.0  \n",
       "127                5.0  "
      ]
     },
     "execution_count": 152,
     "metadata": {},
     "output_type": "execute_result"
    }
   ],
   "source": [
    "car.sample(6)"
   ]
  },
  {
   "cell_type": "code",
   "execution_count": 153,
   "id": "537ae49f",
   "metadata": {},
   "outputs": [],
   "source": [
    "car.rename(columns ={'Make': 'Company'},inplace = True)"
   ]
  },
  {
   "cell_type": "code",
   "execution_count": 154,
   "id": "546703a2",
   "metadata": {},
   "outputs": [
    {
     "data": {
      "text/plain": [
       "array(['Honda', 'Maruti Suzuki', 'Hyundai', 'Toyota', 'Mercedes-Benz',\n",
       "       'BMW', 'Skoda', 'Nissan', 'Renault', 'Tata', 'Volkswagen', 'Ford',\n",
       "       'Audi', 'Mahindra', 'MG', 'Jeep', 'Porsche', 'Kia', 'Land Rover',\n",
       "       'Volvo', 'Maserati', 'Jaguar', 'Isuzu', 'Fiat', 'MINI', 'Ferrari',\n",
       "       'Mitsubishi', 'Datsun', 'Lamborghini', 'Chevrolet', 'Ssangyong',\n",
       "       'Rolls-Royce', 'Lexus'], dtype=object)"
      ]
     },
     "execution_count": 154,
     "metadata": {},
     "output_type": "execute_result"
    }
   ],
   "source": [
    "car['Company'].unique()"
   ]
  },
  {
   "cell_type": "code",
   "execution_count": 155,
   "id": "3ca99d1e",
   "metadata": {},
   "outputs": [],
   "source": [
    "car.dropna(inplace=True)"
   ]
  },
  {
   "cell_type": "code",
   "execution_count": 156,
   "id": "72c93e3d",
   "metadata": {},
   "outputs": [
    {
     "data": {
      "text/plain": [
       "array([5., 7., 4., 8., 2., 6.])"
      ]
     },
     "execution_count": 156,
     "metadata": {},
     "output_type": "execute_result"
    }
   ],
   "source": [
    "car['Seating Capacity'].unique()"
   ]
  },
  {
   "cell_type": "code",
   "execution_count": 157,
   "id": "af397ff6",
   "metadata": {},
   "outputs": [],
   "source": [
    "car['Seating Capacity'] = car['Seating Capacity'].astype('int')"
   ]
  },
  {
   "cell_type": "code",
   "execution_count": 158,
   "id": "75a9bae9",
   "metadata": {},
   "outputs": [
    {
     "data": {
      "text/plain": [
       "array([5, 7, 4, 8, 2, 6])"
      ]
     },
     "execution_count": 158,
     "metadata": {},
     "output_type": "execute_result"
    }
   ],
   "source": [
    "car['Seating Capacity'].unique()"
   ]
  },
  {
   "cell_type": "code",
   "execution_count": 159,
   "id": "08e7d1f7",
   "metadata": {},
   "outputs": [],
   "source": [
    "car['Model'] = car['Model'].str.split(' ').str.slice(0,3).str.join(' ')"
   ]
  },
  {
   "cell_type": "code",
   "execution_count": 160,
   "id": "62074e66",
   "metadata": {},
   "outputs": [
    {
     "data": {
      "text/html": [
       "<div>\n",
       "<style scoped>\n",
       "    .dataframe tbody tr th:only-of-type {\n",
       "        vertical-align: middle;\n",
       "    }\n",
       "\n",
       "    .dataframe tbody tr th {\n",
       "        vertical-align: top;\n",
       "    }\n",
       "\n",
       "    .dataframe thead th {\n",
       "        text-align: right;\n",
       "    }\n",
       "</style>\n",
       "<table border=\"1\" class=\"dataframe\">\n",
       "  <thead>\n",
       "    <tr style=\"text-align: right;\">\n",
       "      <th></th>\n",
       "      <th>Company</th>\n",
       "      <th>Model</th>\n",
       "      <th>Price</th>\n",
       "      <th>Year</th>\n",
       "      <th>Kilometer</th>\n",
       "      <th>Fuel Type</th>\n",
       "      <th>Transmission</th>\n",
       "      <th>Location</th>\n",
       "      <th>Color</th>\n",
       "      <th>Owner</th>\n",
       "      <th>Seller Type</th>\n",
       "      <th>Seating Capacity</th>\n",
       "    </tr>\n",
       "  </thead>\n",
       "  <tbody>\n",
       "    <tr>\n",
       "      <th>0</th>\n",
       "      <td>Honda</td>\n",
       "      <td>Amaze 1.2 VX</td>\n",
       "      <td>505000</td>\n",
       "      <td>2017</td>\n",
       "      <td>87150</td>\n",
       "      <td>Petrol</td>\n",
       "      <td>Manual</td>\n",
       "      <td>Pune</td>\n",
       "      <td>Grey</td>\n",
       "      <td>First</td>\n",
       "      <td>Corporate</td>\n",
       "      <td>5</td>\n",
       "    </tr>\n",
       "    <tr>\n",
       "      <th>1</th>\n",
       "      <td>Maruti Suzuki</td>\n",
       "      <td>Swift DZire VDI</td>\n",
       "      <td>450000</td>\n",
       "      <td>2014</td>\n",
       "      <td>75000</td>\n",
       "      <td>Diesel</td>\n",
       "      <td>Manual</td>\n",
       "      <td>Ludhiana</td>\n",
       "      <td>White</td>\n",
       "      <td>Second</td>\n",
       "      <td>Individual</td>\n",
       "      <td>5</td>\n",
       "    </tr>\n",
       "    <tr>\n",
       "      <th>2</th>\n",
       "      <td>Hyundai</td>\n",
       "      <td>i10 Magna 1.2</td>\n",
       "      <td>220000</td>\n",
       "      <td>2011</td>\n",
       "      <td>67000</td>\n",
       "      <td>Petrol</td>\n",
       "      <td>Manual</td>\n",
       "      <td>Lucknow</td>\n",
       "      <td>Maroon</td>\n",
       "      <td>First</td>\n",
       "      <td>Individual</td>\n",
       "      <td>5</td>\n",
       "    </tr>\n",
       "    <tr>\n",
       "      <th>3</th>\n",
       "      <td>Toyota</td>\n",
       "      <td>Glanza G</td>\n",
       "      <td>799000</td>\n",
       "      <td>2019</td>\n",
       "      <td>37500</td>\n",
       "      <td>Petrol</td>\n",
       "      <td>Manual</td>\n",
       "      <td>Mangalore</td>\n",
       "      <td>Red</td>\n",
       "      <td>First</td>\n",
       "      <td>Individual</td>\n",
       "      <td>5</td>\n",
       "    </tr>\n",
       "    <tr>\n",
       "      <th>4</th>\n",
       "      <td>Toyota</td>\n",
       "      <td>Innova 2.4 VX</td>\n",
       "      <td>1950000</td>\n",
       "      <td>2018</td>\n",
       "      <td>69000</td>\n",
       "      <td>Diesel</td>\n",
       "      <td>Manual</td>\n",
       "      <td>Mumbai</td>\n",
       "      <td>Grey</td>\n",
       "      <td>First</td>\n",
       "      <td>Individual</td>\n",
       "      <td>7</td>\n",
       "    </tr>\n",
       "    <tr>\n",
       "      <th>...</th>\n",
       "      <td>...</td>\n",
       "      <td>...</td>\n",
       "      <td>...</td>\n",
       "      <td>...</td>\n",
       "      <td>...</td>\n",
       "      <td>...</td>\n",
       "      <td>...</td>\n",
       "      <td>...</td>\n",
       "      <td>...</td>\n",
       "      <td>...</td>\n",
       "      <td>...</td>\n",
       "      <td>...</td>\n",
       "    </tr>\n",
       "    <tr>\n",
       "      <th>2054</th>\n",
       "      <td>Mahindra</td>\n",
       "      <td>XUV500 W8 [2015-2017]</td>\n",
       "      <td>850000</td>\n",
       "      <td>2016</td>\n",
       "      <td>90300</td>\n",
       "      <td>Diesel</td>\n",
       "      <td>Manual</td>\n",
       "      <td>Surat</td>\n",
       "      <td>White</td>\n",
       "      <td>First</td>\n",
       "      <td>Individual</td>\n",
       "      <td>7</td>\n",
       "    </tr>\n",
       "    <tr>\n",
       "      <th>2055</th>\n",
       "      <td>Hyundai</td>\n",
       "      <td>Eon D-Lite +</td>\n",
       "      <td>275000</td>\n",
       "      <td>2014</td>\n",
       "      <td>83000</td>\n",
       "      <td>Petrol</td>\n",
       "      <td>Manual</td>\n",
       "      <td>Ahmedabad</td>\n",
       "      <td>White</td>\n",
       "      <td>Second</td>\n",
       "      <td>Individual</td>\n",
       "      <td>5</td>\n",
       "    </tr>\n",
       "    <tr>\n",
       "      <th>2056</th>\n",
       "      <td>Ford</td>\n",
       "      <td>Figo Duratec Petrol</td>\n",
       "      <td>240000</td>\n",
       "      <td>2013</td>\n",
       "      <td>73000</td>\n",
       "      <td>Petrol</td>\n",
       "      <td>Manual</td>\n",
       "      <td>Thane</td>\n",
       "      <td>Silver</td>\n",
       "      <td>First</td>\n",
       "      <td>Individual</td>\n",
       "      <td>5</td>\n",
       "    </tr>\n",
       "    <tr>\n",
       "      <th>2057</th>\n",
       "      <td>BMW</td>\n",
       "      <td>5-Series 520d Luxury</td>\n",
       "      <td>4290000</td>\n",
       "      <td>2018</td>\n",
       "      <td>60474</td>\n",
       "      <td>Diesel</td>\n",
       "      <td>Automatic</td>\n",
       "      <td>Coimbatore</td>\n",
       "      <td>White</td>\n",
       "      <td>First</td>\n",
       "      <td>Individual</td>\n",
       "      <td>5</td>\n",
       "    </tr>\n",
       "    <tr>\n",
       "      <th>2058</th>\n",
       "      <td>Mahindra</td>\n",
       "      <td>Bolero Power Plus</td>\n",
       "      <td>670000</td>\n",
       "      <td>2017</td>\n",
       "      <td>72000</td>\n",
       "      <td>Diesel</td>\n",
       "      <td>Manual</td>\n",
       "      <td>Guwahati</td>\n",
       "      <td>White</td>\n",
       "      <td>First</td>\n",
       "      <td>Individual</td>\n",
       "      <td>7</td>\n",
       "    </tr>\n",
       "  </tbody>\n",
       "</table>\n",
       "<p>1995 rows × 12 columns</p>\n",
       "</div>"
      ],
      "text/plain": [
       "            Company                  Model    Price  Year  Kilometer  \\\n",
       "0             Honda           Amaze 1.2 VX   505000  2017      87150   \n",
       "1     Maruti Suzuki        Swift DZire VDI   450000  2014      75000   \n",
       "2           Hyundai          i10 Magna 1.2   220000  2011      67000   \n",
       "3            Toyota               Glanza G   799000  2019      37500   \n",
       "4            Toyota          Innova 2.4 VX  1950000  2018      69000   \n",
       "...             ...                    ...      ...   ...        ...   \n",
       "2054       Mahindra  XUV500 W8 [2015-2017]   850000  2016      90300   \n",
       "2055        Hyundai           Eon D-Lite +   275000  2014      83000   \n",
       "2056           Ford    Figo Duratec Petrol   240000  2013      73000   \n",
       "2057            BMW   5-Series 520d Luxury  4290000  2018      60474   \n",
       "2058       Mahindra      Bolero Power Plus   670000  2017      72000   \n",
       "\n",
       "     Fuel Type Transmission    Location   Color   Owner Seller Type  \\\n",
       "0       Petrol       Manual        Pune    Grey   First   Corporate   \n",
       "1       Diesel       Manual    Ludhiana   White  Second  Individual   \n",
       "2       Petrol       Manual     Lucknow  Maroon   First  Individual   \n",
       "3       Petrol       Manual   Mangalore     Red   First  Individual   \n",
       "4       Diesel       Manual      Mumbai    Grey   First  Individual   \n",
       "...        ...          ...         ...     ...     ...         ...   \n",
       "2054    Diesel       Manual       Surat   White   First  Individual   \n",
       "2055    Petrol       Manual   Ahmedabad   White  Second  Individual   \n",
       "2056    Petrol       Manual       Thane  Silver   First  Individual   \n",
       "2057    Diesel    Automatic  Coimbatore   White   First  Individual   \n",
       "2058    Diesel       Manual    Guwahati   White   First  Individual   \n",
       "\n",
       "      Seating Capacity  \n",
       "0                    5  \n",
       "1                    5  \n",
       "2                    5  \n",
       "3                    5  \n",
       "4                    7  \n",
       "...                ...  \n",
       "2054                 7  \n",
       "2055                 5  \n",
       "2056                 5  \n",
       "2057                 5  \n",
       "2058                 7  \n",
       "\n",
       "[1995 rows x 12 columns]"
      ]
     },
     "execution_count": 160,
     "metadata": {},
     "output_type": "execute_result"
    }
   ],
   "source": [
    "car"
   ]
  },
  {
   "cell_type": "markdown",
   "id": "c9f39e7a",
   "metadata": {},
   "source": [
    "# Data Visualization "
   ]
  },
  {
   "cell_type": "code",
   "execution_count": 161,
   "id": "ea67859f",
   "metadata": {},
   "outputs": [
    {
     "data": {
      "text/plain": [
       "<AxesSubplot:xlabel='Fuel Type', ylabel='count'>"
      ]
     },
     "execution_count": 161,
     "metadata": {},
     "output_type": "execute_result"
    },
    {
     "data": {
      "image/png": "[encoded data removed]",
      "text/plain": [
       "<Figure size 640x480 with 1 Axes>"
      ]
     },
     "metadata": {},
     "output_type": "display_data"
    }
   ],
   "source": [
    "sns.countplot(x='Fuel Type',data =car)"
   ]
  },
  {
   "cell_type": "code",
   "execution_count": 162,
   "id": "e6057a84",
   "metadata": {},
   "outputs": [
    {
     "data": {
      "text/plain": [
       "<AxesSubplot:xlabel='Transmission', ylabel='count'>"
      ]
     },
     "execution_count": 162,
     "metadata": {},
     "output_type": "execute_result"
    },
    {
     "data": {
      "image/png": "[encoded data removed]",
      "text/plain": [
       "<Figure size 640x480 with 1 Axes>"
      ]
     },
     "metadata": {},
     "output_type": "display_data"
    }
   ],
   "source": [
    "sns.countplot(x='Transmission',data =car)"
   ]
  },
  {
   "cell_type": "code",
   "execution_count": 163,
   "id": "b6cc63a7",
   "metadata": {},
   "outputs": [
    {
     "data": {
      "image/png": "[encoded data removed]",
      "text/plain": [
       "<Figure size 640x480 with 1 Axes>"
      ]
     },
     "metadata": {},
     "output_type": "display_data"
    }
   ],
   "source": [
    "sns.countplot(x='Color',data =car) \n",
    "plt.xticks(rotation= 'vertical')\n",
    "plt.show()                       "
   ]
  },
  {
   "cell_type": "code",
   "execution_count": 164,
   "id": "2240d027",
   "metadata": {},
   "outputs": [
    {
     "data": {
      "text/plain": [
       "<AxesSubplot:xlabel='Seller Type', ylabel='count'>"
      ]
     },
     "execution_count": 164,
     "metadata": {},
     "output_type": "execute_result"
    },
    {
     "data": {
      "image/png": "[encoded data removed]",
      "text/plain": [
       "<Figure size 640x480 with 1 Axes>"
      ]
     },
     "metadata": {},
     "output_type": "display_data"
    }
   ],
   "source": [
    "sns.countplot(x='Seller Type',data =car) #maxmium seller are individuals "
   ]
  },
  {
   "cell_type": "code",
   "execution_count": 165,
   "id": "24e5cb15",
   "metadata": {},
   "outputs": [
    {
     "data": {
      "text/plain": [
       "<AxesSubplot:xlabel='Seating Capacity', ylabel='count'>"
      ]
     },
     "execution_count": 165,
     "metadata": {},
     "output_type": "execute_result"
    },
    {
     "data": {
      "image/png": "[encoded data removed]",
      "text/plain": [
       "<Figure size 640x480 with 1 Axes>"
      ]
     },
     "metadata": {},
     "output_type": "display_data"
    }
   ],
   "source": [
    "sns.countplot(x='Seating Capacity',data =car) #maximum cars are of 5 seater type"
   ]
  },
  {
   "cell_type": "raw",
   "id": "6ff1780e",
   "metadata": {},
   "source": []
  },
  {
   "cell_type": "code",
   "execution_count": 166,
   "id": "e4296525",
   "metadata": {},
   "outputs": [
    {
     "data": {
      "image/png": "[encoded data removed]",
      "text/plain": [
       "<Figure size 640x480 with 1 Axes>"
      ]
     },
     "metadata": {},
     "output_type": "display_data"
    }
   ],
   "source": [
    "sns.barplot(x='Fuel Type',y='Price',data=car) #hybrid fuel type which is combination of petrol/diseal and electric has max price\n",
    "plt.xticks(rotation= 'vertical')\n",
    "plt.show()"
   ]
  },
  {
   "cell_type": "code",
   "execution_count": 167,
   "id": "1fc5de8d",
   "metadata": {},
   "outputs": [
    {
     "data": {
      "text/plain": [
       "<AxesSubplot:xlabel='Transmission', ylabel='Price'>"
      ]
     },
     "execution_count": 167,
     "metadata": {},
     "output_type": "execute_result"
    },
    {
     "data": {
      "image/png": "[encoded data removed]",
      "text/plain": [
       "<Figure size 640x480 with 1 Axes>"
      ]
     },
     "metadata": {},
     "output_type": "display_data"
    }
   ],
   "source": [
    "sns.barplot(x='Transmission',y='Price',data=car) #automatic car has maximun price "
   ]
  },
  {
   "cell_type": "code",
   "execution_count": 168,
   "id": "cbab4435",
   "metadata": {},
   "outputs": [
    {
     "data": {
      "text/plain": [
       "<AxesSubplot:xlabel='Seating Capacity', ylabel='Price'>"
      ]
     },
     "execution_count": 168,
     "metadata": {},
     "output_type": "execute_result"
    },
    {
     "data": {
      "image/png": "[encoded data removed]",
      "text/plain": [
       "<Figure size 640x480 with 1 Axes>"
      ]
     },
     "metadata": {},
     "output_type": "display_data"
    }
   ],
   "source": [
    "sns.barplot(x='Seating Capacity',y='Price',data=car)"
   ]
  },
  {
   "cell_type": "markdown",
   "id": "3a48b556",
   "metadata": {},
   "source": [
    "# Model Building and Data transformation "
   ]
  },
  {
   "cell_type": "code",
   "execution_count": 169,
   "id": "3557d179",
   "metadata": {},
   "outputs": [],
   "source": [
    "X = car.drop(columns ='Price')\n",
    "y = car['Price']"
   ]
  },
  {
   "cell_type": "code",
   "execution_count": 170,
   "id": "02aea5be",
   "metadata": {},
   "outputs": [],
   "source": [
    "from sklearn.model_selection import train_test_split"
   ]
  },
  {
   "cell_type": "code",
   "execution_count": 171,
   "id": "cefa7758",
   "metadata": {},
   "outputs": [],
   "source": [
    "X_train, X_test, y_train, y_test = train_test_split(X, y, test_size=0.2)"
   ]
  },
  {
   "cell_type": "code",
   "execution_count": 172,
   "id": "11aa2877",
   "metadata": {},
   "outputs": [
    {
     "data": {
      "text/plain": [
       "((1596, 11), (399, 11), (1596,), (399,))"
      ]
     },
     "execution_count": 172,
     "metadata": {},
     "output_type": "execute_result"
    }
   ],
   "source": [
    "X_train.shape, X_test.shape, y_train.shape, y_test.shape"
   ]
  },
  {
   "cell_type": "code",
   "execution_count": 173,
   "id": "7b639675",
   "metadata": {},
   "outputs": [],
   "source": [
    "from sklearn.preprocessing import OneHotEncoder\n",
    "from sklearn.linear_model import LinearRegression\n",
    "from sklearn.ensemble import RandomForestRegressor\n",
    "from sklearn.compose import make_column_transformer\n",
    "from sklearn.pipeline import make_pipeline"
   ]
  },
  {
   "cell_type": "code",
   "execution_count": 174,
   "id": "dd6d90ae",
   "metadata": {},
   "outputs": [
    {
     "data": {
      "text/plain": [
       "OneHotEncoder()"
      ]
     },
     "execution_count": 174,
     "metadata": {},
     "output_type": "execute_result"
    }
   ],
   "source": [
    "ohe = OneHotEncoder()\n",
    "ohe.fit(X[['Company','Model','Fuel Type','Transmission','Location','Color','Owner','Seller Type']])"
   ]
  },
  {
   "cell_type": "code",
   "execution_count": 175,
   "id": "efef7924",
   "metadata": {},
   "outputs": [],
   "source": [
    "column_trans = make_column_transformer((OneHotEncoder(categories =ohe.categories_),['Company','Model','Fuel Type','Transmission','Location','Color','Owner','Seller Type']),remainder='passthrough')"
   ]
  },
  {
   "cell_type": "code",
   "execution_count": 176,
   "id": "be4eba19",
   "metadata": {},
   "outputs": [],
   "source": [
    "lr = LinearRegression()\n",
    "regressor = RandomForestRegressor(n_estimators=100,\n",
    "                                  random_state=0,\n",
    "                                 max_samples= 0.5,\n",
    "                                 max_features= 0.75,\n",
    "                                 max_depth = 15)"
   ]
  },
  {
   "cell_type": "code",
   "execution_count": 177,
   "id": "0fad1f73",
   "metadata": {},
   "outputs": [],
   "source": [
    "pipe = make_pipeline(column_trans,regressor)"
   ]
  },
  {
   "cell_type": "code",
   "execution_count": 178,
   "id": "22e5e633",
   "metadata": {},
   "outputs": [
    {
     "data": {
      "text/plain": [
       "Pipeline(steps=[('columntransformer',\n",
       "                 ColumnTransformer(remainder='passthrough',\n",
       "                                   transformers=[('onehotencoder',\n",
       "                                                  OneHotEncoder(categories=[array(['Audi', 'BMW', 'Chevrolet', 'Datsun', 'Ferrari', 'Fiat', 'Ford',\n",
       "       'Honda', 'Hyundai', 'Isuzu', 'Jaguar', 'Jeep', 'Kia',\n",
       "       'Lamborghini', 'Land Rover', 'Lexus', 'MG', 'MINI', 'Mahindra',\n",
       "       'Maruti Suzuki', 'Maserati', 'Mercedes-Benz', 'M...\n",
       "                                                                            array(['4 or More', 'First', 'Fourth', 'Second', 'Third',\n",
       "       'UnRegistered Car'], dtype=object),\n",
       "                                                                            array(['Commercial Registration', 'Corporate', 'Individual'], dtype=object)]),\n",
       "                                                  ['Company', 'Model',\n",
       "                                                   'Fuel Type', 'Transmission',\n",
       "                                                   'Location', 'Color', 'Owner',\n",
       "                                                   'Seller Type'])])),\n",
       "                ('randomforestregressor',\n",
       "                 RandomForestRegressor(max_depth=15, max_features=0.75,\n",
       "                                       max_samples=0.5, random_state=0))])"
      ]
     },
     "execution_count": 178,
     "metadata": {},
     "output_type": "execute_result"
    }
   ],
   "source": [
    "pipe.fit(X_train,y_train)"
   ]
  },
  {
   "cell_type": "code",
   "execution_count": 179,
   "id": "46d8bee7",
   "metadata": {},
   "outputs": [],
   "source": [
    "pred = pipe.predict(X_test)"
   ]
  },
  {
   "cell_type": "code",
   "execution_count": 180,
   "id": "370e7fb3",
   "metadata": {},
   "outputs": [],
   "source": [
    "from sklearn.metrics import r2_score,mean_absolute_error"
   ]
  },
  {
   "cell_type": "code",
   "execution_count": 181,
   "id": "20375cb0",
   "metadata": {},
   "outputs": [
    {
     "data": {
      "text/plain": [
       "0.7283195039628105"
      ]
     },
     "execution_count": 181,
     "metadata": {},
     "output_type": "execute_result"
    }
   ],
   "source": [
    "r2_score(y_test,pred)"
   ]
  },
  {
   "cell_type": "code",
   "execution_count": 184,
   "id": "ac768825",
   "metadata": {},
   "outputs": [
    {
     "data": {
      "text/plain": [
       "array([426831.99387369])"
      ]
     },
     "execution_count": 184,
     "metadata": {},
     "output_type": "execute_result"
    }
   ],
   "source": [
    "pipe.predict(pd.DataFrame([['Maruti Suzuki','Swift DZire VDI',2014,75000,'Diesel','Manual','Ludhiana','White','Second','Individual',5]],columns = ['Company','Model','Year','Kilometer','Fuel Type','Transmission','Location','Color','Owner','Seller Type','Seating Capacity']))\n"
   ]
  },
  {
   "cell_type": "code",
   "execution_count": 185,
   "id": "04af89d4",
   "metadata": {},
   "outputs": [],
   "source": [
    "import pickle\n",
    "pickle.dump(car,open('car.pkl','wb'))\n",
    "pickle.dump(pipe,open('pipe.pkl','wb'))"
   ]
  },
  {
   "cell_type": "code",
   "execution_count": 189,
   "id": "3390adb8",
   "metadata": {},
   "outputs": [
    {
     "data": {
      "text/html": [
       "<div>\n",
       "<style scoped>\n",
       "    .dataframe tbody tr th:only-of-type {\n",
       "        vertical-align: middle;\n",
       "    }\n",
       "\n",
       "    .dataframe tbody tr th {\n",
       "        vertical-align: top;\n",
       "    }\n",
       "\n",
       "    .dataframe thead th {\n",
       "        text-align: right;\n",
       "    }\n",
       "</style>\n",
       "<table border=\"1\" class=\"dataframe\">\n",
       "  <thead>\n",
       "    <tr style=\"text-align: right;\">\n",
       "      <th></th>\n",
       "      <th>Company</th>\n",
       "      <th>Model</th>\n",
       "      <th>Price</th>\n",
       "      <th>Year</th>\n",
       "      <th>Kilometer</th>\n",
       "      <th>Fuel Type</th>\n",
       "      <th>Transmission</th>\n",
       "      <th>Location</th>\n",
       "      <th>Color</th>\n",
       "      <th>Owner</th>\n",
       "      <th>Seller Type</th>\n",
       "      <th>Seating Capacity</th>\n",
       "    </tr>\n",
       "  </thead>\n",
       "  <tbody>\n",
       "    <tr>\n",
       "      <th>0</th>\n",
       "      <td>Honda</td>\n",
       "      <td>Amaze 1.2 VX</td>\n",
       "      <td>505000</td>\n",
       "      <td>2017</td>\n",
       "      <td>87150</td>\n",
       "      <td>Petrol</td>\n",
       "      <td>Manual</td>\n",
       "      <td>Pune</td>\n",
       "      <td>Grey</td>\n",
       "      <td>First</td>\n",
       "      <td>Corporate</td>\n",
       "      <td>5</td>\n",
       "    </tr>\n",
       "    <tr>\n",
       "      <th>1</th>\n",
       "      <td>Maruti Suzuki</td>\n",
       "      <td>Swift DZire VDI</td>\n",
       "      <td>450000</td>\n",
       "      <td>2014</td>\n",
       "      <td>75000</td>\n",
       "      <td>Diesel</td>\n",
       "      <td>Manual</td>\n",
       "      <td>Ludhiana</td>\n",
       "      <td>White</td>\n",
       "      <td>Second</td>\n",
       "      <td>Individual</td>\n",
       "      <td>5</td>\n",
       "    </tr>\n",
       "    <tr>\n",
       "      <th>2</th>\n",
       "      <td>Hyundai</td>\n",
       "      <td>i10 Magna 1.2</td>\n",
       "      <td>220000</td>\n",
       "      <td>2011</td>\n",
       "      <td>67000</td>\n",
       "      <td>Petrol</td>\n",
       "      <td>Manual</td>\n",
       "      <td>Lucknow</td>\n",
       "      <td>Maroon</td>\n",
       "      <td>First</td>\n",
       "      <td>Individual</td>\n",
       "      <td>5</td>\n",
       "    </tr>\n",
       "    <tr>\n",
       "      <th>3</th>\n",
       "      <td>Toyota</td>\n",
       "      <td>Glanza G</td>\n",
       "      <td>799000</td>\n",
       "      <td>2019</td>\n",
       "      <td>37500</td>\n",
       "      <td>Petrol</td>\n",
       "      <td>Manual</td>\n",
       "      <td>Mangalore</td>\n",
       "      <td>Red</td>\n",
       "      <td>First</td>\n",
       "      <td>Individual</td>\n",
       "      <td>5</td>\n",
       "    </tr>\n",
       "    <tr>\n",
       "      <th>4</th>\n",
       "      <td>Toyota</td>\n",
       "      <td>Innova 2.4 VX</td>\n",
       "      <td>1950000</td>\n",
       "      <td>2018</td>\n",
       "      <td>69000</td>\n",
       "      <td>Diesel</td>\n",
       "      <td>Manual</td>\n",
       "      <td>Mumbai</td>\n",
       "      <td>Grey</td>\n",
       "      <td>First</td>\n",
       "      <td>Individual</td>\n",
       "      <td>7</td>\n",
       "    </tr>\n",
       "    <tr>\n",
       "      <th>...</th>\n",
       "      <td>...</td>\n",
       "      <td>...</td>\n",
       "      <td>...</td>\n",
       "      <td>...</td>\n",
       "      <td>...</td>\n",
       "      <td>...</td>\n",
       "      <td>...</td>\n",
       "      <td>...</td>\n",
       "      <td>...</td>\n",
       "      <td>...</td>\n",
       "      <td>...</td>\n",
       "      <td>...</td>\n",
       "    </tr>\n",
       "    <tr>\n",
       "      <th>2054</th>\n",
       "      <td>Mahindra</td>\n",
       "      <td>XUV500 W8 [2015-2017]</td>\n",
       "      <td>850000</td>\n",
       "      <td>2016</td>\n",
       "      <td>90300</td>\n",
       "      <td>Diesel</td>\n",
       "      <td>Manual</td>\n",
       "      <td>Surat</td>\n",
       "      <td>White</td>\n",
       "      <td>First</td>\n",
       "      <td>Individual</td>\n",
       "      <td>7</td>\n",
       "    </tr>\n",
       "    <tr>\n",
       "      <th>2055</th>\n",
       "      <td>Hyundai</td>\n",
       "      <td>Eon D-Lite +</td>\n",
       "      <td>275000</td>\n",
       "      <td>2014</td>\n",
       "      <td>83000</td>\n",
       "      <td>Petrol</td>\n",
       "      <td>Manual</td>\n",
       "      <td>Ahmedabad</td>\n",
       "      <td>White</td>\n",
       "      <td>Second</td>\n",
       "      <td>Individual</td>\n",
       "      <td>5</td>\n",
       "    </tr>\n",
       "    <tr>\n",
       "      <th>2056</th>\n",
       "      <td>Ford</td>\n",
       "      <td>Figo Duratec Petrol</td>\n",
       "      <td>240000</td>\n",
       "      <td>2013</td>\n",
       "      <td>73000</td>\n",
       "      <td>Petrol</td>\n",
       "      <td>Manual</td>\n",
       "      <td>Thane</td>\n",
       "      <td>Silver</td>\n",
       "      <td>First</td>\n",
       "      <td>Individual</td>\n",
       "      <td>5</td>\n",
       "    </tr>\n",
       "    <tr>\n",
       "      <th>2057</th>\n",
       "      <td>BMW</td>\n",
       "      <td>5-Series 520d Luxury</td>\n",
       "      <td>4290000</td>\n",
       "      <td>2018</td>\n",
       "      <td>60474</td>\n",
       "      <td>Diesel</td>\n",
       "      <td>Automatic</td>\n",
       "      <td>Coimbatore</td>\n",
       "      <td>White</td>\n",
       "      <td>First</td>\n",
       "      <td>Individual</td>\n",
       "      <td>5</td>\n",
       "    </tr>\n",
       "    <tr>\n",
       "      <th>2058</th>\n",
       "      <td>Mahindra</td>\n",
       "      <td>Bolero Power Plus</td>\n",
       "      <td>670000</td>\n",
       "      <td>2017</td>\n",
       "      <td>72000</td>\n",
       "      <td>Diesel</td>\n",
       "      <td>Manual</td>\n",
       "      <td>Guwahati</td>\n",
       "      <td>White</td>\n",
       "      <td>First</td>\n",
       "      <td>Individual</td>\n",
       "      <td>7</td>\n",
       "    </tr>\n",
       "  </tbody>\n",
       "</table>\n",
       "<p>1995 rows × 12 columns</p>\n",
       "</div>"
      ],
      "text/plain": [
       "            Company                  Model    Price  Year  Kilometer  \\\n",
       "0             Honda           Amaze 1.2 VX   505000  2017      87150   \n",
       "1     Maruti Suzuki        Swift DZire VDI   450000  2014      75000   \n",
       "2           Hyundai          i10 Magna 1.2   220000  2011      67000   \n",
       "3            Toyota               Glanza G   799000  2019      37500   \n",
       "4            Toyota          Innova 2.4 VX  1950000  2018      69000   \n",
       "...             ...                    ...      ...   ...        ...   \n",
       "2054       Mahindra  XUV500 W8 [2015-2017]   850000  2016      90300   \n",
       "2055        Hyundai           Eon D-Lite +   275000  2014      83000   \n",
       "2056           Ford    Figo Duratec Petrol   240000  2013      73000   \n",
       "2057            BMW   5-Series 520d Luxury  4290000  2018      60474   \n",
       "2058       Mahindra      Bolero Power Plus   670000  2017      72000   \n",
       "\n",
       "     Fuel Type Transmission    Location   Color   Owner Seller Type  \\\n",
       "0       Petrol       Manual        Pune    Grey   First   Corporate   \n",
       "1       Diesel       Manual    Ludhiana   White  Second  Individual   \n",
       "2       Petrol       Manual     Lucknow  Maroon   First  Individual   \n",
       "3       Petrol       Manual   Mangalore     Red   First  Individual   \n",
       "4       Diesel       Manual      Mumbai    Grey   First  Individual   \n",
       "...        ...          ...         ...     ...     ...         ...   \n",
       "2054    Diesel       Manual       Surat   White   First  Individual   \n",
       "2055    Petrol       Manual   Ahmedabad   White  Second  Individual   \n",
       "2056    Petrol       Manual       Thane  Silver   First  Individual   \n",
       "2057    Diesel    Automatic  Coimbatore   White   First  Individual   \n",
       "2058    Diesel       Manual    Guwahati   White   First  Individual   \n",
       "\n",
       "      Seating Capacity  \n",
       "0                    5  \n",
       "1                    5  \n",
       "2                    5  \n",
       "3                    5  \n",
       "4                    7  \n",
       "...                ...  \n",
       "2054                 7  \n",
       "2055                 5  \n",
       "2056                 5  \n",
       "2057                 5  \n",
       "2058                 7  \n",
       "\n",
       "[1995 rows x 12 columns]"
      ]
     },
     "execution_count": 189,
     "metadata": {},
     "output_type": "execute_result"
    }
   ],
   "source": [
    "car"
   ]
  },
  {
   "cell_type": "code",
   "execution_count": 190,
   "id": "64ca7d79",
   "metadata": {},
   "outputs": [
    {
     "data": {
      "text/plain": [
       "array([2017, 2014, 2011, 2019, 2018, 2015, 2016, 2020, 2013, 2009, 2010,\n",
       "       2021, 2012, 2006, 2022, 2007, 2008, 1988], dtype=int64)"
      ]
     },
     "execution_count": 190,
     "metadata": {},
     "output_type": "execute_result"
    }
   ],
   "source": [
    "car['Year'].unique()"
   ]
  },
  {
   "cell_type": "code",
   "execution_count": 192,
   "id": "f62587c7",
   "metadata": {},
   "outputs": [
    {
     "data": {
      "text/plain": [
       "array([  87150,   75000,   67000,   37500,   69000,   73315,   47000,\n",
       "         56000,   85000,   20281,   22541,   30672,   20856,   41417,\n",
       "         11471,    3583,   21365,   30777,   60125,    2169,   60240,\n",
       "         13772,   27464,   47377,   23086,   36313,   39276,   47752,\n",
       "         27963,   24013,   66000,   28000,   72000,   27069,   43000,\n",
       "         71000,   45600,   60000,  105101,   45000,   34105,   68397,\n",
       "         65000,   27469,   41058,   51330,   45969,   66602,   57983,\n",
       "         11183,   46301,   34867,   43634,    9512,   11293,   78000,\n",
       "         50374,   15900,   64000,   24000,   40310,   69700,   74073,\n",
       "         73000,  130000,   40500,   49013,   64983,   92270,  110000,\n",
       "         10000,   51500,   35000,   61518,   34000,   36058,   88000,\n",
       "         98112,   58000,   92355,   16652,   76584,   42500,   70000,\n",
       "         84700,    2766,   68766,   16339,   63882,   28732,   51349,\n",
       "         61866,   29401,   98580,    8000,   31348,   28851,    8519,\n",
       "         48000,  143000,   39000,   62000,   48500,   82000,   40910,\n",
       "         10290,   10530,   61900,   57402,   57000,   87500,   16000,\n",
       "         18000,   10700,   16282,   72019,  195000,   92170,   55221,\n",
       "         25000,       1,   23500,   68000,   29096,   61223,   86000,\n",
       "         87000,   79287,   48945,   17000,   55000,   38779,    6000,\n",
       "         46000,   23103,   27000,    9576,    1942,  119300,   98000,\n",
       "         61400,   87693,   31000,   75210,   15000,   45350,   68189,\n",
       "         33000,   83000,  211000,   48600,    5790,   32000,   65433,\n",
       "         87230,   38258,   56881,   76000,   60514,   71141,   40937,\n",
       "         37000,   86999,   70200,   64800,   76345,   40564,   98500,\n",
       "         46807,   81000,   13716,   89000,   13000,   38000,   25500,\n",
       "         44724,   24549,   97000,    7800,   20000,   13594,   43037,\n",
       "         26000,  115000,    8700,   41736,   40000,  160000,   11000,\n",
       "         24690,  117000,   95000,  107000,    8922,   47800,   68758,\n",
       "          7500,   22402,   12382,   61000,   90868,   22010,   75500,\n",
       "         39586,   33647,   57847,   74000,   57300,   80852,   75592,\n",
       "         54420,   39780,   78301,  126535,   37079,   87200,   51000,\n",
       "         29999,  100472,   19759,    3383,   42000,   62500,   30229,\n",
       "          9000,   26600,   29135,   50965,   11850,   50623,    1700,\n",
       "         43260,   67738,   14722,   29000,   60200,  140000,   23798,\n",
       "         49000,  121000,  102000,   48400,   55700,   80000,  104814,\n",
       "         75811,    3813,   64928,   68500,   41296,   72567,    4295,\n",
       "         54000,    8530,   39394,   17881,   48409,   61643,   21000,\n",
       "          1500,   38985,   52000,   29442,   71800,    5000,   65555,\n",
       "           600,  192326,   86006,   99000,   21651,   84000,   44000,\n",
       "         49857,   50000,   36000,   87513,    3800,   35123,    2670,\n",
       "        124000,    9889,   51145,   82900,   56843,    9644,   41624,\n",
       "         82844,   60444,  125000,  112000,   54948,   53300,  157662,\n",
       "         78900,  103000,   95785,   92000,   39328,   18625,   93000,\n",
       "         10340,   47706,   13400,   44613,    7000,   23000,   67580,\n",
       "         16205,   14000,  114635,   29221,   77000,    5500,   65341,\n",
       "          9500,   17904,   25275,   67850,  105000,   55055,   22000,\n",
       "         25704,   55353,   41526,   29434,   80251,   42505,   42200,\n",
       "         57600,  128000,   89445,   64120,   82300,   50197,   44527,\n",
       "         72400,   82200,    7900,   79000,   72600,   42313,   90000,\n",
       "         18500,   26200,   14366,  126000,   71700,  114000,   58339,\n",
       "         72040,    6200,    6900,    2500,   19000,    6400,   41441,\n",
       "         48174,   62591,   48650,   52245,   43297,   44710,   59267,\n",
       "         52236,   15530,    2000,  103890,   12000,   63000,   33828,\n",
       "          4000,  170669,   57654,   41792,   41000,  107021,   57993,\n",
       "         25914,    4500,   30183,   73190,   13120,   56918,   27657,\n",
       "         30000,  111000,   37600,   81802,   45915,   22224,   53848,\n",
       "        104264,   61159,   57400,   13500,   12400,   46721,   41470,\n",
       "        170000,   73265,   68818,   12050,   24100,  185000,    1910,\n",
       "         36978,   18954,   58200,  117048,   43290,  150000,   42079,\n",
       "        101347,   36700,  240000,   76529,   37959,    1300,   21696,\n",
       "         58618,   10500,   85641,   41669,   37180,   53512,    4600,\n",
       "         32963,  101000,   50500,   80849,   19868,   30858,   56500,\n",
       "         37003,   53000,  120000,   44087,   59000,   48422,   76642,\n",
       "        135000,   14500,   31552,   35134,   62125,   64300,   28600,\n",
       "         69500,    8640,    5750,   44876,   95610,   53693,   53807,\n",
       "         67546,   37100,   89059,   58146,    3826,    8499,   61181,\n",
       "          9232,   72542,   42601,  106223,   39850,   96095,   12768,\n",
       "         12321,   65100,  118000,   26807,   53929,   49580,   15780,\n",
       "         50800,    3000,    3500,   31100,    9400,   15507,  145000,\n",
       "         47721,   95315,   11874,   51800,  155000,   45326,   28079,\n",
       "         15529,   43200,   29386,   18105,  125372,  100000,   65001,\n",
       "         42533,   34400,    8800,   19700,    2700,   52890,   72870,\n",
       "         48591,   60888,   20251,   54200,   51292,   19244,   54500,\n",
       "         16785,   42678,   82682,   70500,   57159,   58100,   12749,\n",
       "         83466,   60921,   34736,   14400,   77590,   40545,   56852,\n",
       "         75793,   89311,   66794,   35616,   11030,   49123,    7942,\n",
       "         52100,   32809,   25700,   17268,   44100,   95786,   95401,\n",
       "         41273,   65954,   38848,   22700,   13066,   53241,    1374,\n",
       "       2000000,   27011,   45545,   72782,   16800,   40900,   38700,\n",
       "          7239,   81300,   91460,  133273,   60500,   42855,   72900,\n",
       "         24500,   20690,   47248,   34841,   58736,   12020,  139000,\n",
       "        122000,   27800,   46027,   23148,   15500,   82445,   75574,\n",
       "         14095,   41086,   87938,   95200,   54556,   68566,   68195,\n",
       "         60116,   82202,   12500,    6300,   25862,   83985,   74237,\n",
       "         52303,   42356,   26894,   98352,   31059,   44153,   32368,\n",
       "         49422,   75258,   68921,   79800,   94000,   62152,   53610,\n",
       "         56400,   82567,   68244,   68005,   74797,    7520,   58078,\n",
       "         79081,   11628,   81323,   28513,   52458,   46992,   54440,\n",
       "         64906,   67900,   48144,    7100,   65321,   37093,   37230,\n",
       "         76116,   83359,   14120,   28584,   63200,   71569,   41200,\n",
       "         26357,   33500,    5923,   54154,   35500,   52836,   72114,\n",
       "         27600,   72200,   26497,   20100,  115339,   78362,   60513,\n",
       "         94827,   22120,   54572,   79500,   34228,  141334,   80350,\n",
       "         48200,   20124,   55660,   94580,   90342,    1000,  123000,\n",
       "         47531,  440000,   63088,    2600,   36623,   43550,   47874,\n",
       "         87001,  143477,   85900,   69508,   53089,   36597,     500,\n",
       "         52600,   63300,  144933,   32545,   39234,   41215,   16519,\n",
       "         74179,   31056,   49148,  152000,   21894,   63587,   53694,\n",
       "         91100,   76148,  104000,    5600,   58900,  222000,  158690,\n",
       "         60969,   68320,   85785,   12905,   91000,   37556,   23952,\n",
       "         44300,   25200,  132683,   50599,   84878,   71063,   69001,\n",
       "         49200,   48568,   66500,   58590,   13092,   57057,   50860,\n",
       "         34908,   30600,   49500,   18800,   50050,   20734,   15200,\n",
       "         42794,   72256,   17300,   43600,   17283,   32005,   18223,\n",
       "         60798,  138000,   84500,       0,   36528,   15087,   32500,\n",
       "          4400,   22346,   23280,  138314,    9900,   51529,   65822,\n",
       "         72100,    7534,   88757,   12136,  109000,   53580,   23700,\n",
       "         48069,   47981,   71500,   16630,   47255,   18703,    7935,\n",
       "          9355,   34800,   86288,   24003,   49776,   47884,   58424,\n",
       "        925000,   34303,    6600,   13424,   69276,   63651,   71796,\n",
       "         82461,   61109,  135797,   42475,   27239,    2272,   38674,\n",
       "         38500,   15600,   43323,   94182,    3395,   53213,   75650,\n",
       "         61805,   53376,   65123,   58600,   27900,   12300,   24444,\n",
       "          2610,   40879,   68690,   64418,   10265,  219000,  261236,\n",
       "         33030,   96506,  140987,   54443,   50300,   83555,   27500,\n",
       "          5800,  173000,   96000,   38091,  127000,   51834,  116592,\n",
       "         21200,      75,   75693,   90300,   60474], dtype=int64)"
      ]
     },
     "execution_count": 192,
     "metadata": {},
     "output_type": "execute_result"
    }
   ],
   "source": [
    "car['Kilometer'].unique()"
   ]
  },
  {
   "cell_type": "code",
   "execution_count": null,
   "id": "43975d4f",
   "metadata": {},
   "outputs": [],
   "source": []
  }
 ],
 "metadata": {
  "kernelspec": {
   "display_name": "Python 3 (ipykernel)",
   "language": "python",
   "name": "python3"
  },
  "language_info": {
   "codemirror_mode": {
    "name": "ipython",
    "version": 3
   },
   "file_extension": ".py",
   "mimetype": "text/x-python",
   "name": "python",
   "nbconvert_exporter": "python",
   "pygments_lexer": "ipython3",
   "version": "3.9.13"
  }
 },
 "nbformat": 4,
 "nbformat_minor": 5
}
